{
 "cells": [
  {
   "cell_type": "code",
   "execution_count": 1,
   "metadata": {},
   "outputs": [
    {
     "name": "stderr",
     "output_type": "stream",
     "text": [
      "/Users/mriva/tgen/.env/lib/python3.7/site-packages/tensorflow/python/framework/dtypes.py:526: FutureWarning: Passing (type, 1) or '1type' as a synonym of type is deprecated; in a future version of numpy, it will be understood as (type, (1,)) / '(1,)type'.\n",
      "  _np_qint8 = np.dtype([(\"qint8\", np.int8, 1)])\n",
      "/Users/mriva/tgen/.env/lib/python3.7/site-packages/tensorflow/python/framework/dtypes.py:527: FutureWarning: Passing (type, 1) or '1type' as a synonym of type is deprecated; in a future version of numpy, it will be understood as (type, (1,)) / '(1,)type'.\n",
      "  _np_quint8 = np.dtype([(\"quint8\", np.uint8, 1)])\n",
      "/Users/mriva/tgen/.env/lib/python3.7/site-packages/tensorflow/python/framework/dtypes.py:528: FutureWarning: Passing (type, 1) or '1type' as a synonym of type is deprecated; in a future version of numpy, it will be understood as (type, (1,)) / '(1,)type'.\n",
      "  _np_qint16 = np.dtype([(\"qint16\", np.int16, 1)])\n",
      "/Users/mriva/tgen/.env/lib/python3.7/site-packages/tensorflow/python/framework/dtypes.py:529: FutureWarning: Passing (type, 1) or '1type' as a synonym of type is deprecated; in a future version of numpy, it will be understood as (type, (1,)) / '(1,)type'.\n",
      "  _np_quint16 = np.dtype([(\"quint16\", np.uint16, 1)])\n",
      "/Users/mriva/tgen/.env/lib/python3.7/site-packages/tensorflow/python/framework/dtypes.py:530: FutureWarning: Passing (type, 1) or '1type' as a synonym of type is deprecated; in a future version of numpy, it will be understood as (type, (1,)) / '(1,)type'.\n",
      "  _np_qint32 = np.dtype([(\"qint32\", np.int32, 1)])\n",
      "/Users/mriva/tgen/.env/lib/python3.7/site-packages/tensorflow/python/framework/dtypes.py:535: FutureWarning: Passing (type, 1) or '1type' as a synonym of type is deprecated; in a future version of numpy, it will be understood as (type, (1,)) / '(1,)type'.\n",
      "  np_resource = np.dtype([(\"resource\", np.ubyte, 1)])\n",
      "Wed Oct 30 11:03:51 2019 INFO: Running on CPython version 3.7.4\n"
     ]
    },
    {
     "name": "stdout",
     "output_type": "stream",
     "text": [
      "usage: ../run_tgen.py seq2seq_gen [-h] [-e EVAL_FILE] [-a ABSTR_FILE]\n",
      "                                  [-r REF_SELECTOR] [-t TARGET_SELECTOR]\n",
      "                                  [-d DEBUG_LOGFILE] [-w OUTPUT_FILE]\n",
      "                                  [-b BEAM_SIZE] [-c CONTEXT_FILE]\n",
      "                                  seq2seq_model_file da_test_file\n",
      "\n",
      "positional arguments:\n",
      "  seq2seq_model_file    Trained Seq2Seq generator model\n",
      "  da_test_file          Input DAs for generation\n",
      "\n",
      "optional arguments:\n",
      "  -h, --help            show this help message and exit\n",
      "  -e EVAL_FILE, --eval-file EVAL_FILE\n",
      "                        A ttree/text file for evaluation\n",
      "  -a ABSTR_FILE, --abstr-file ABSTR_FILE\n",
      "                        Lexicalization file (a.k.a. abstraction instructions,\n",
      "                        for postprocessing)\n",
      "  -r REF_SELECTOR, --ref-selector REF_SELECTOR\n",
      "                        Selector for reference trees in the evaluation file\n",
      "  -t TARGET_SELECTOR, --target-selector TARGET_SELECTOR\n",
      "                        Target selector for generated trees in the output file\n",
      "  -d DEBUG_LOGFILE, --debug-logfile DEBUG_LOGFILE\n",
      "                        Debug output file name\n",
      "  -w OUTPUT_FILE, --output-file OUTPUT_FILE\n",
      "                        Output tree/text file\n",
      "  -b BEAM_SIZE, --beam-size BEAM_SIZE\n",
      "                        Override beam size for beam search decoding\n",
      "  -c CONTEXT_FILE, --context-file CONTEXT_FILE\n",
      "                        Input ttree/text file with context utterances\n"
     ]
    }
   ],
   "source": [
    "%run ../run_tgen.py seq2seq_gen -h"
   ]
  }
 ],
 "metadata": {
  "kernelspec": {
   "display_name": "Python 3",
   "language": "python",
   "name": "python3"
  },
  "language_info": {
   "codemirror_mode": {
    "name": "ipython",
    "version": 3
   },
   "file_extension": ".py",
   "mimetype": "text/x-python",
   "name": "python",
   "nbconvert_exporter": "python",
   "pygments_lexer": "ipython3",
   "version": "3.7.4"
  }
 },
 "nbformat": 4,
 "nbformat_minor": 2
}
